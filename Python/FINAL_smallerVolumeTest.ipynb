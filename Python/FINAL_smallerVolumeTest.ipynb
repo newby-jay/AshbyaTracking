{
 "cells": [
  {
   "cell_type": "code",
   "execution_count": 1,
   "metadata": {},
   "outputs": [
    {
     "name": "stdout",
     "output_type": "stream",
     "text": [
      "Populating the interactive namespace from numpy and matplotlib\n"
     ]
    }
   ],
   "source": [
    "import os.path\n",
    "import time\n",
    "import pylab as pl\n",
    "import numpy as np\n",
    "from scipy import rand\n",
    "from scipy.io import loadmat\n",
    "%pylab inline\n",
    "import os\n",
    "import time\n",
    "from scipy.io import savemat, loadmat\n",
    "from numpy import *\n",
    "import copy\n",
    "import pandas as pd\n",
    "from scipy.io import loadmat\n",
    "import seaborn as sns\n",
    "import scipy\n",
    "from scipy.signal import savgol_filter\n",
    "from scipy.signal import argrelextrema\n",
    "from scipy.signal import find_peaks_cwt\n",
    "from scipy.signal import find_peaks\n",
    "from scipy import interpolate\n",
    "import math\n",
    "def truncate(number, digits) -> float:\n",
    "    stepper = 10.0 ** digits\n",
    "    return math.trunc(stepper * number) / stepper\n",
    "sns.set()"
   ]
  },
  {
   "cell_type": "code",
   "execution_count": 2,
   "metadata": {},
   "outputs": [
    {
     "data": {
      "text/plain": [
       "['wt-gems_1frame_1umstack005', 'wt-gems_1frame_1umstack007']"
      ]
     },
     "execution_count": 2,
     "metadata": {},
     "output_type": "execute_result"
    }
   ],
   "source": [
    "d = '3D_1um'\n",
    "# d = '3D_1.5um'\n",
    "##########################################\n",
    "dx = 0.11029266566038132\n",
    "frame = 50\n",
    "# projection = 'densities'\n",
    "# projection = 'minProjection' #min diffusivity projection\n",
    "projection = 'diffusivity' #average diffusivity projection\n",
    "##########################################\n",
    "dtDict = {'wt_gems_1.5stack003': 0.44573554396629333, \n",
    "          'wt-gems_1frame_1umstack007': 0.3540413975715637, \n",
    "          'wt-gems_1frame_1umstack005': 0.3520873188972473, \n",
    "          '1.5stack_003': 0.5459893345832825, \n",
    "          '=wt-gems_1frame_1umstack009': 0.3537989556789398}\n",
    "nest = np.load('axialData-{0}.npy'.format(d),allow_pickle=True,\n",
    "               encoding='latin1')[0] #b/c file was made w/ python 2\n",
    "vids = nest.keys()\n",
    "sorted(vids)"
   ]
  },
  {
   "cell_type": "code",
   "execution_count": 3,
   "metadata": {},
   "outputs": [],
   "source": [
    "allDiffs = []\n",
    "allWeights = []\n",
    "\n",
    "for v in vids: #each video (cell)\n",
    "    for hy in arange(len(nest[v][projection])): #each hypha in the cell\n",
    "        tipLoc = []\n",
    "        idxTip = []\n",
    "        if len(nest[v][projection][hy]) == 1:\n",
    "            continue\n",
    "        diffsZeros = nest[v][projection][hy][frame,:]*dx**2/dtDict[v] #diffusivity,\n",
    "                                                                                  #um^2/s\n",
    "        diffs = array([i for i in diffsZeros if i!=0]) #diffusivity values w/0 0's \n",
    "        AL = abs(nest[v]['arcLength'][hy])*dx #Arc length, um\n",
    "        if len(diffsZeros) == 0: #if empty, skip\n",
    "            continue\n",
    "        if len(nest[v]['arcLength'][hy]) < 10: #skip very short medial axis semgentes\n",
    "            continue\n",
    "        ##############################################################\n",
    "        ### getting weights based on distances b/w medial axis points:\n",
    "        diffAL = np.diff(AL) #distance b/w medial axis points\n",
    "        weights = np.zeros(len(AL))\n",
    "        weights[0] = diffAL[0] #beginning and end points are weighted by neighboring \n",
    "        weights[-1] = diffAL[-1]                                           #distance\n",
    "        for i, val in enumerate(weights[1:-1],1): #middle points weighted by average of\n",
    "            weights[i] = (diffAL[i-1] + diffAL[i])/2   #their two neighboring distances\n",
    "        ###############################################################################\n",
    "        allDiffs = append(allDiffs,diffs) #all diffusivity values from all cells\n",
    "        allWeights = append(allWeights,weights)"
   ]
  },
  {
   "cell_type": "code",
   "execution_count": 8,
   "metadata": {},
   "outputs": [
    {
     "name": "stdout",
     "output_type": "stream",
     "text": [
      "mean:\n",
      "0.08506521111776476\n",
      "n:\n",
      "3082\n",
      "std:\n",
      "0.058113169946178586\n"
     ]
    },
    {
     "data": {
      "image/png": "[encoded data removed]",
      "text/plain": [
       "<Figure size 504x288 with 1 Axes>"
      ]
     },
     "metadata": {},
     "output_type": "display_data"
    }
   ],
   "source": [
    "fig = plt.figure(1,figsize=(7,4))\n",
    "sns.set(font_scale=1.1)\n",
    "\n",
    "# plt.hist(allDiffs,color='deepskyblue',bins=linspace(0,0.1,50),lw=0.4,alpha=.8,\n",
    "#          weights=allWeights,density=True,histtype='stepfilled', linewidth=0.05,\n",
    "#          edgecolor='deepskyblue',label='Diffusivity values\\nfrom all hyphae')\n",
    "######\n",
    "plt.hist(allDiffs,color=[0.35,0.35,0.35],bins=linspace(0,0.7,50),lw=0.4,alpha=.6,\n",
    "         weights=allWeights,density=True,histtype='stepfilled', linewidth=0.05,\n",
    "         edgecolor=[0.55,0.55,0.55],label='mean: 0.085, n=3082')\n",
    "######\n",
    "plt.legend()\n",
    "xlabel('diffusivity (um2/s)')\n",
    "ylabel('normalized counts')\n",
    "###\n",
    "print('mean:')\n",
    "print(np.mean(allDiffs))\n",
    "print('n:')\n",
    "print(len(allDiffs))\n",
    "print('std:')\n",
    "print(std(allDiffs))"
   ]
  },
  {
   "cell_type": "code",
   "execution_count": null,
   "metadata": {},
   "outputs": [],
   "source": []
  }
 ],
 "metadata": {
  "kernelspec": {
   "display_name": "Python 3",
   "language": "python",
   "name": "python3"
  },
  "language_info": {
   "codemirror_mode": {
    "name": "ipython",
    "version": 3
   },
   "file_extension": ".py",
   "mimetype": "text/x-python",
   "name": "python",
   "nbconvert_exporter": "python",
   "pygments_lexer": "ipython3",
   "version": "3.7.3"
  }
 },
 "nbformat": 4,
 "nbformat_minor": 2
}
